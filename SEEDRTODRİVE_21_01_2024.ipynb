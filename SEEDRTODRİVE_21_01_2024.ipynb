{
  "nbformat": 4,
  "nbformat_minor": 0,
  "metadata": {
    "colab": {
      "provenance": [],
      "include_colab_link": true
    },
    "kernelspec": {
      "name": "python3",
      "display_name": "Python 3"
    },
    "language_info": {
      "name": "python"
    }
  },
  "cells": [
    {
      "cell_type": "markdown",
      "metadata": {
        "id": "view-in-github",
        "colab_type": "text"
      },
      "source": [
        "<a href=\"https://colab.research.google.com/github/cagribolat/CCExtractor/blob/main/SEEDRTODR%C4%B0VE_21_01_2024.ipynb\" target=\"_parent\"><img src=\"https://colab.research.google.com/assets/colab-badge.svg\" alt=\"Open In Colab\"/></a>"
      ]
    },
    {
      "cell_type": "markdown",
      "source": [
        "![Google_Drive_logo.jpg](data:image/jpeg;base64,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)"
      ],
      "metadata": {
        "id": "W9iVWeJuiHne"
      }
    },
    {
      "cell_type": "markdown",
      "source": [
        "**GOOGLE DRİVE EKLEYİN**"
      ],
      "metadata": {
        "id": "uyfTKe2SjLud"
      }
    },
    {
      "cell_type": "code",
      "source": [
        "from google.colab import drive\n",
        "drive.mount('/content/drive')\n",
        "%cd /content/drive/MyDrive/Torrent"
      ],
      "metadata": {
        "id": "45OhnO4IjiEt"
      },
      "execution_count": null,
      "outputs": []
    },
    {
      "cell_type": "markdown",
      "source": [
        "SEEDR LİNKİNİ **AŞAĞIDAKİ BÖLÜME**  YAPIŞTIRIP ADINI VE DOSYA UZANTISI YAZIP ÇALIŞTIRA BASINIZ."
      ],
      "metadata": {
        "id": "QNbTmBDykKS7"
      }
    },
    {
      "cell_type": "code",
      "source": [
        "!wget \"SEEDR LİNKİNİ BURAYA YAPIŞTIRINIZ\" -O “[DOSYA ADINI YAZINIZ]].[UZANTIYI YAZIN]”"
      ],
      "metadata": {
        "id": "NFhEOyQo4hM1"
      },
      "execution_count": null,
      "outputs": []
    }
  ]
}